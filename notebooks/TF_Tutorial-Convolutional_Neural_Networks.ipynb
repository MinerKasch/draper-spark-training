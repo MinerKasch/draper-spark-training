{
 "cells": [
  {
   "cell_type": "code",
   "execution_count": 1,
   "metadata": {
    "collapsed": true
   },
   "outputs": [],
   "source": [
    "import numpy as np\n",
    "import tensorflow as tf\n",
    "\n",
    "%matplotlib inline\n",
    "import matplotlib.pyplot as plt"
   ]
  },
  {
   "cell_type": "markdown",
   "metadata": {},
   "source": [
    "# Convolutional Neural Networks\n",
    "\n",
    "ConvNets are particularly well suited for data that has a spatial component to it. Things like images, audio, and text. Load the provided MNIST dataset from Tensorflow, split into training and test, and then display a few examples."
   ]
  },
  {
   "cell_type": "code",
   "execution_count": 2,
   "metadata": {
    "collapsed": false
   },
   "outputs": [
    {
     "name": "stdout",
     "output_type": "stream",
     "text": [
      "Extracting MNIST_data/train-images-idx3-ubyte.gz\n",
      "Extracting MNIST_data/train-labels-idx1-ubyte.gz\n",
      "Extracting MNIST_data/t10k-images-idx3-ubyte.gz\n",
      "Extracting MNIST_data/t10k-labels-idx1-ubyte.gz\n",
      "(55000, 28, 28, 1)\n"
     ]
    },
    {
     "data": {
      "image/png": "[encoded data removed]",
      "text/plain": [
       "<matplotlib.figure.Figure at 0x124ca98d0>"
      ]
     },
     "metadata": {},
     "output_type": "display_data"
    },
    {
     "data": {
      "image/png": "[encoded data removed]",
      "text/plain": [
       "<matplotlib.figure.Figure at 0x12a60a240>"
      ]
     },
     "metadata": {},
     "output_type": "display_data"
    },
    {
     "data": {
      "image/png": "[encoded data removed]",
      "text/plain": [
       "<matplotlib.figure.Figure at 0x1309666a0>"
      ]
     },
     "metadata": {},
     "output_type": "display_data"
    },
    {
     "data": {
      "image/png": "[encoded data removed]",
      "text/plain": [
       "<matplotlib.figure.Figure at 0x1307dbfd0>"
      ]
     },
     "metadata": {},
     "output_type": "display_data"
    },
    {
     "data": {
      "image/png": "[encoded data removed]",
      "text/plain": [
       "<matplotlib.figure.Figure at 0x13095c0f0>"
      ]
     },
     "metadata": {},
     "output_type": "display_data"
    }
   ],
   "source": [
    "from tensorflow.examples.tutorials.mnist import input_data\n",
    "mnist = input_data.read_data_sets(\"MNIST_data\", one_hot=True)\n",
    "\n",
    "X_train = np.reshape(mnist.train.images, (-1, 28, 28, 1))\n",
    "y_train = np.asarray(mnist.train.labels, dtype=np.int32)\n",
    "\n",
    "X_test = np.reshape(mnist.test.images, (-1, 28, 28, 1))\n",
    "y_test = np.asarray(mnist.test.labels, dtype=np.int32)\n",
    "\n",
    "print(X_train.shape)\n",
    "\n",
    "for i in range(5):\n",
    "    plt.imshow(X_train[i].squeeze())\n",
    "    plt.show()"
   ]
  },
  {
   "cell_type": "markdown",
   "metadata": {},
   "source": [
    "Again, we will need placeholders for our batches when we use minibatch gradient descent."
   ]
  },
  {
   "cell_type": "code",
   "execution_count": 3,
   "metadata": {
    "collapsed": false
   },
   "outputs": [],
   "source": [
    "with tf.name_scope('input_placeholder'):\n",
    "    X = tf.placeholder(tf.float32, shape=(None, 28, 28, 1), name='X')\n",
    "    \n",
    "with tf.name_scope('targets_placeholder'):\n",
    "    y = tf.placeholder(tf.float32, shape=(None, 10), name='y')"
   ]
  },
  {
   "cell_type": "markdown",
   "metadata": {},
   "source": [
    "Set up our NN hyperparameters"
   ]
  },
  {
   "cell_type": "code",
   "execution_count": 4,
   "metadata": {
    "collapsed": true
   },
   "outputs": [],
   "source": [
    "LR = 0.001\n",
    "EPOCHS = 15\n",
    "BATCHSIZE = 32"
   ]
  },
  {
   "cell_type": "markdown",
   "metadata": {},
   "source": [
    "Much like our vanailly neural network example, we will create generic layer functions that take certain values as parameters. These functions will allow us to quickly and easily set up our Convolutional neural network with little redudancy. They will also allow us to rapidly prototype different architectures, if we wanted more or less layers in any region of the network"
   ]
  },
  {
   "cell_type": "code",
   "execution_count": 5,
   "metadata": {
    "collapsed": false
   },
   "outputs": [],
   "source": [
    "def conv_layer(X, in_dims, n_kernels, kernel_size, name, activation=None):\n",
    "    '''\n",
    "    Sets up a convolutional layer to be used to build a CNN. \n",
    "    \n",
    "    Parameters:\n",
    "    X: input data for the layer\n",
    "    in_dims: number of channels incoming to this layer\n",
    "    n_kernels: number of convolutional kernels to use in the layer\n",
    "    kernel_size: the size of each kernel as (kernel_size, kernel_size)\n",
    "    name: the name of the scope to be used with this layer\n",
    "    activation: the tensorflow nonlinearity to be used for each neuron\n",
    "    \n",
    "    Returns:\n",
    "    Tensorflow graph description representing the constructed layer\n",
    "    '''\n",
    "    with tf.name_scope(name):\n",
    "        init = tf.truncated_normal([kernel_size, kernel_size, in_dims, n_kernels], stddev=0.1)\n",
    "        W = tf.Variable(init, name='kernel_weights_{}'.format(name))\n",
    "        b = tf.Variable(tf.constant(0.1, shape=[n_kernels]))\n",
    "        conv = tf.nn.conv2d(X, W, strides=[1,1,1,1], padding='SAME') + b\n",
    "        if activation is not None:\n",
    "            return activation(conv)\n",
    "        else:\n",
    "            return conv\n",
    "        \n",
    "def max_pool(X, pool_size, name):\n",
    "    '''\n",
    "    Sets up a pooling layer to be used to build a CNN. \n",
    "    \n",
    "    Parameters:\n",
    "    X: input data for the layer\n",
    "    pool_size: the window size for the maxpool operation in (pool_size, pool_size)\n",
    "    name: the name of the scope to be used with this layer\n",
    "\n",
    "    Returns:\n",
    "    Tensorflow graph description representing the constructed layer\n",
    "    '''\n",
    "    with tf.name_scope(name):\n",
    "        return tf.nn.max_pool(X, ksize=[1, pool_size, pool_size, 1], \n",
    "                              strides=[1, pool_size, pool_size, 1], padding='SAME')\n",
    "        \n",
    "def dense_layer(X, n_units, name, activation=None):\n",
    "    '''\n",
    "    Sets up a hidden layer to be used to build a multilayer perceptron. \n",
    "    \n",
    "    Initializes the weights of the neurons using a normal distribution with\n",
    "    standard deviation equal to 2 / sqrt(input_dimension + number_neurons)\n",
    "    \n",
    "    Parameters:\n",
    "    X: input data for the layer\n",
    "    n_units: number of neurons to use in the layer\n",
    "    name: the name of the scope to be used with this layer\n",
    "    activation: the tensorflow nonlinearity to be used for each neuron\n",
    "    \n",
    "    Returns:\n",
    "    Tensorflow graph description representing the constructed layer\n",
    "    '''\n",
    "    with tf.name_scope(name):\n",
    "        n_inputs = int(X.get_shape()[1])\n",
    "        stddev = 2 / np.sqrt(n_inputs + n_units)\n",
    "        init = tf.truncated_normal((n_inputs, n_units), stddev=stddev)\n",
    "        W = tf.Variable(init, name='hidden_weights_{}'.format(name))\n",
    "        b = tf.Variable(tf.zeros([n_units]), name='bias_{}'.format(name))\n",
    "        Z = tf.matmul(X, W) + b\n",
    "        if activation is not None:\n",
    "            return activation(Z)\n",
    "        else:\n",
    "            return Z\n",
    "        \n",
    "def output_layer(X, n_units, name):\n",
    "    '''\n",
    "    Same as dense layer but doesn't take an activation\n",
    "    '''\n",
    "    with tf.name_scope(name):\n",
    "        n_inputs = int(X.get_shape()[1])\n",
    "        stddev = 2 / np.sqrt(n_inputs + n_units)\n",
    "        init = tf.truncated_normal((n_inputs, n_units), stddev=stddev)\n",
    "        W = tf.Variable(init, name='hidden_weights_{}'.format(name))\n",
    "        b = tf.Variable(tf.zeros([n_units]), name='bias_{}'.format(name))\n",
    "        logits = tf.add(tf.matmul(X, W), b, name='logits_{}'.format(name))\n",
    "        \n",
    "    return logits"
   ]
  },
  {
   "cell_type": "markdown",
   "metadata": {},
   "source": [
    "# Exercise\n",
    "\n",
    "Build a convolutional neural network using the layer definitions that we created above. Try to come up with an architecture to maximize test set accuracy."
   ]
  },
  {
   "cell_type": "code",
   "execution_count": null,
   "metadata": {
    "collapsed": true
   },
   "outputs": [],
   "source": []
  },
  {
   "cell_type": "markdown",
   "metadata": {},
   "source": [
    "### Solution"
   ]
  },
  {
   "cell_type": "code",
   "execution_count": 6,
   "metadata": {
    "collapsed": false
   },
   "outputs": [],
   "source": [
    "# build the network\n",
    "with tf.name_scope('cnn'):\n",
    "    conv_1 = conv_layer(X, in_dims=1, n_kernels=8, kernel_size=5, name='conv_a', activation=tf.nn.relu)\n",
    "    pool_1 = max_pool(conv_1, pool_size=2, name='pool_a')\n",
    "    \n",
    "    conv_2 = conv_layer(pool_1, in_dims=8, n_kernels=16, kernel_size=5, name='conv_b', activation=tf.nn.relu)\n",
    "    pool_2 = max_pool(conv_2, pool_size=2, name='pool_b')\n",
    "    \n",
    "    flat = tf.reshape(pool_2, [-1, 7*7*16])\n",
    "    \n",
    "    dense = dense_layer(flat, 32, name='dense_layer', activation=tf.nn.relu)\n",
    "    y_logits = output_layer(dense, 10, name='output')"
   ]
  },
  {
   "cell_type": "markdown",
   "metadata": {},
   "source": [
    "Set up our loss and training algorithms. We'll use `Adam` here, which is a tweak on the way that stochastic gradient descent works."
   ]
  },
  {
   "cell_type": "code",
   "execution_count": 7,
   "metadata": {
    "collapsed": false
   },
   "outputs": [],
   "source": [
    "with tf.name_scope('loss'):\n",
    "    loss = tf.reduce_mean(tf.nn.softmax_cross_entropy_with_logits(labels=y, logits=y_logits))\n",
    "    \n",
    "with tf.name_scope('train'):\n",
    "    train_step = tf.train.AdamOptimizer(LR, name='adam_optimizer').minimize(loss)\n",
    "    \n",
    "with tf.name_scope('accuracy'):\n",
    "    corrects = tf.equal(tf.argmax(tf.nn.softmax(y_logits),1), tf.argmax(y_test, 1))\n",
    "    acc = tf.reduce_mean(tf.cast(corrects, tf.float32))"
   ]
  },
  {
   "cell_type": "markdown",
   "metadata": {},
   "source": [
    "Train our network, using essentially the same methodology as the other notebooks. "
   ]
  },
  {
   "cell_type": "code",
   "execution_count": 12,
   "metadata": {
    "collapsed": false,
    "scrolled": false
   },
   "outputs": [
    {
     "name": "stdout",
     "output_type": "stream",
     "text": [
      "Epoch: 0 Current loss: 2.53521 Test loss: 2.53242 Test Accuracy: 0.0993\n",
      "0 input_placeholder/X\n",
      "1 targets_placeholder/y\n",
      "2 cnn/conv_a/truncated_normal/shape\n",
      "3 cnn/conv_a/truncated_normal/mean\n",
      "4 cnn/conv_a/truncated_normal/stddev\n",
      "5 cnn/conv_a/truncated_normal/TruncatedNormal\n",
      "6 cnn/conv_a/truncated_normal/mul\n",
      "7 cnn/conv_a/truncated_normal\n",
      "8 cnn/conv_a/kernel_weights_conv_a\n",
      "9 cnn/conv_a/kernel_weights_conv_a/Assign\n",
      "10 cnn/conv_a/kernel_weights_conv_a/read\n",
      "11 cnn/conv_a/Const\n",
      "12 cnn/conv_a/Variable\n",
      "13 cnn/conv_a/Variable/Assign\n",
      "14 cnn/conv_a/Variable/read\n",
      "15 cnn/conv_a/Conv2D\n",
      "16 cnn/conv_a/add\n",
      "17 cnn/conv_a/Relu\n",
      "18 cnn/pool_a/MaxPool\n",
      "19 cnn/conv_b/truncated_normal/shape\n",
      "20 cnn/conv_b/truncated_normal/mean\n",
      "21 cnn/conv_b/truncated_normal/stddev\n",
      "22 cnn/conv_b/truncated_normal/TruncatedNormal\n",
      "23 cnn/conv_b/truncated_normal/mul\n",
      "24 cnn/conv_b/truncated_normal\n",
      "25 cnn/conv_b/kernel_weights_conv_b\n",
      "26 cnn/conv_b/kernel_weights_conv_b/Assign\n",
      "27 cnn/conv_b/kernel_weights_conv_b/read\n",
      "28 cnn/conv_b/Const\n",
      "29 cnn/conv_b/Variable\n",
      "30 cnn/conv_b/Variable/Assign\n",
      "31 cnn/conv_b/Variable/read\n",
      "32 cnn/conv_b/Conv2D\n",
      "33 cnn/conv_b/add\n",
      "34 cnn/conv_b/Relu\n",
      "35 cnn/pool_b/MaxPool\n",
      "36 cnn/Reshape/shape\n",
      "37 cnn/Reshape\n",
      "38 cnn/dense_layer/truncated_normal/shape\n",
      "39 cnn/dense_layer/truncated_normal/mean\n",
      "40 cnn/dense_layer/truncated_normal/stddev\n",
      "41 cnn/dense_layer/truncated_normal/TruncatedNormal\n",
      "42 cnn/dense_layer/truncated_normal/mul\n",
      "43 cnn/dense_layer/truncated_normal\n",
      "44 cnn/dense_layer/hidden_weights_dense_layer\n",
      "45 cnn/dense_layer/hidden_weights_dense_layer/Assign\n",
      "46 cnn/dense_layer/hidden_weights_dense_layer/read\n",
      "47 cnn/dense_layer/zeros\n",
      "48 cnn/dense_layer/bias_dense_layer\n",
      "49 cnn/dense_layer/bias_dense_layer/Assign\n",
      "50 cnn/dense_layer/bias_dense_layer/read\n",
      "51 cnn/dense_layer/MatMul\n",
      "52 cnn/dense_layer/add\n",
      "53 cnn/dense_layer/Relu\n",
      "54 cnn/output/truncated_normal/shape\n",
      "55 cnn/output/truncated_normal/mean\n",
      "56 cnn/output/truncated_normal/stddev\n",
      "57 cnn/output/truncated_normal/TruncatedNormal\n",
      "58 cnn/output/truncated_normal/mul\n",
      "59 cnn/output/truncated_normal\n",
      "60 cnn/output/hidden_weights_output\n",
      "61 cnn/output/hidden_weights_output/Assign\n",
      "62 cnn/output/hidden_weights_output/read\n",
      "63 cnn/output/zeros\n",
      "64 cnn/output/bias_output\n",
      "65 cnn/output/bias_output/Assign\n",
      "66 cnn/output/bias_output/read\n",
      "67 cnn/output/MatMul\n",
      "68 cnn/output/logits_output\n",
      "69 loss/Rank\n",
      "70 loss/Shape\n",
      "71 loss/Rank_1\n",
      "72 loss/Shape_1\n",
      "73 loss/Sub/y\n",
      "74 loss/Sub\n",
      "75 loss/Slice/begin\n",
      "76 loss/Slice/size\n",
      "77 loss/Slice\n",
      "78 loss/concat/values_0\n",
      "79 loss/concat/axis\n",
      "80 loss/concat\n",
      "81 loss/Reshape\n",
      "82 loss/Rank_2\n",
      "83 loss/Shape_2\n",
      "84 loss/Sub_1/y\n",
      "85 loss/Sub_1\n",
      "86 loss/Slice_1/begin\n",
      "87 loss/Slice_1/size\n",
      "88 loss/Slice_1\n",
      "89 loss/concat_1/values_0\n",
      "90 loss/concat_1/axis\n",
      "91 loss/concat_1\n",
      "92 loss/Reshape_1\n",
      "93 loss/SoftmaxCrossEntropyWithLogits\n",
      "94 loss/Sub_2/y\n",
      "95 loss/Sub_2\n",
      "96 loss/Slice_2/begin\n",
      "97 loss/Slice_2/size\n",
      "98 loss/Slice_2\n",
      "99 loss/Reshape_2\n",
      "100 loss/Const\n",
      "101 loss/Mean\n",
      "102 train/gradients/Shape\n",
      "103 train/gradients/Const\n",
      "104 train/gradients/Fill\n",
      "105 train/gradients/loss/Mean_grad/Reshape/shape\n",
      "106 train/gradients/loss/Mean_grad/Reshape\n",
      "107 train/gradients/loss/Mean_grad/Shape\n",
      "108 train/gradients/loss/Mean_grad/Tile\n",
      "109 train/gradients/loss/Mean_grad/Shape_1\n",
      "110 train/gradients/loss/Mean_grad/Shape_2\n",
      "111 train/gradients/loss/Mean_grad/Const\n",
      "112 train/gradients/loss/Mean_grad/Prod\n",
      "113 train/gradients/loss/Mean_grad/Const_1\n",
      "114 train/gradients/loss/Mean_grad/Prod_1\n",
      "115 train/gradients/loss/Mean_grad/Maximum/y\n",
      "116 train/gradients/loss/Mean_grad/Maximum\n",
      "117 train/gradients/loss/Mean_grad/floordiv\n",
      "118 train/gradients/loss/Mean_grad/Cast\n",
      "119 train/gradients/loss/Mean_grad/truediv\n",
      "120 train/gradients/loss/Reshape_2_grad/Shape\n",
      "121 train/gradients/loss/Reshape_2_grad/Reshape\n",
      "122 train/gradients/zeros_like\n",
      "123 train/gradients/loss/SoftmaxCrossEntropyWithLogits_grad/ExpandDims/dim\n",
      "124 train/gradients/loss/SoftmaxCrossEntropyWithLogits_grad/ExpandDims\n",
      "125 train/gradients/loss/SoftmaxCrossEntropyWithLogits_grad/mul\n",
      "126 train/gradients/loss/Reshape_grad/Shape\n",
      "127 train/gradients/loss/Reshape_grad/Reshape\n",
      "128 train/gradients/cnn/output/logits_output_grad/Shape\n",
      "129 train/gradients/cnn/output/logits_output_grad/Shape_1\n",
      "130 train/gradients/cnn/output/logits_output_grad/BroadcastGradientArgs\n",
      "131 train/gradients/cnn/output/logits_output_grad/Sum\n",
      "132 train/gradients/cnn/output/logits_output_grad/Reshape\n",
      "133 train/gradients/cnn/output/logits_output_grad/Sum_1\n",
      "134 train/gradients/cnn/output/logits_output_grad/Reshape_1\n",
      "135 train/gradients/cnn/output/logits_output_grad/tuple/group_deps\n",
      "136 train/gradients/cnn/output/logits_output_grad/tuple/control_dependency\n",
      "137 train/gradients/cnn/output/logits_output_grad/tuple/control_dependency_1\n",
      "138 train/gradients/cnn/output/MatMul_grad/MatMul\n",
      "139 train/gradients/cnn/output/MatMul_grad/MatMul_1\n",
      "140 train/gradients/cnn/output/MatMul_grad/tuple/group_deps\n",
      "141 train/gradients/cnn/output/MatMul_grad/tuple/control_dependency\n",
      "142 train/gradients/cnn/output/MatMul_grad/tuple/control_dependency_1\n",
      "143 train/gradients/cnn/dense_layer/Relu_grad/ReluGrad\n",
      "144 train/gradients/cnn/dense_layer/add_grad/Shape\n",
      "145 train/gradients/cnn/dense_layer/add_grad/Shape_1\n",
      "146 train/gradients/cnn/dense_layer/add_grad/BroadcastGradientArgs\n",
      "147 train/gradients/cnn/dense_layer/add_grad/Sum\n",
      "148 train/gradients/cnn/dense_layer/add_grad/Reshape\n",
      "149 train/gradients/cnn/dense_layer/add_grad/Sum_1\n",
      "150 train/gradients/cnn/dense_layer/add_grad/Reshape_1\n",
      "151 train/gradients/cnn/dense_layer/add_grad/tuple/group_deps\n",
      "152 train/gradients/cnn/dense_layer/add_grad/tuple/control_dependency\n",
      "153 train/gradients/cnn/dense_layer/add_grad/tuple/control_dependency_1\n",
      "154 train/gradients/cnn/dense_layer/MatMul_grad/MatMul\n",
      "155 train/gradients/cnn/dense_layer/MatMul_grad/MatMul_1\n",
      "156 train/gradients/cnn/dense_layer/MatMul_grad/tuple/group_deps\n",
      "157 train/gradients/cnn/dense_layer/MatMul_grad/tuple/control_dependency\n",
      "158 train/gradients/cnn/dense_layer/MatMul_grad/tuple/control_dependency_1\n",
      "159 train/gradients/cnn/Reshape_grad/Shape\n",
      "160 train/gradients/cnn/Reshape_grad/Reshape\n",
      "161 train/gradients/cnn/pool_b/MaxPool_grad/MaxPoolGrad\n",
      "162 train/gradients/cnn/conv_b/Relu_grad/ReluGrad\n",
      "163 train/gradients/cnn/conv_b/add_grad/Shape\n",
      "164 train/gradients/cnn/conv_b/add_grad/Shape_1\n",
      "165 train/gradients/cnn/conv_b/add_grad/BroadcastGradientArgs\n",
      "166 train/gradients/cnn/conv_b/add_grad/Sum\n",
      "167 train/gradients/cnn/conv_b/add_grad/Reshape\n",
      "168 train/gradients/cnn/conv_b/add_grad/Sum_1\n",
      "169 train/gradients/cnn/conv_b/add_grad/Reshape_1\n",
      "170 train/gradients/cnn/conv_b/add_grad/tuple/group_deps\n",
      "171 train/gradients/cnn/conv_b/add_grad/tuple/control_dependency\n",
      "172 train/gradients/cnn/conv_b/add_grad/tuple/control_dependency_1\n",
      "173 train/gradients/cnn/conv_b/Conv2D_grad/ShapeN\n",
      "174 train/gradients/cnn/conv_b/Conv2D_grad/Conv2DBackpropInput\n",
      "175 train/gradients/cnn/conv_b/Conv2D_grad/Conv2DBackpropFilter\n",
      "176 train/gradients/cnn/conv_b/Conv2D_grad/tuple/group_deps\n",
      "177 train/gradients/cnn/conv_b/Conv2D_grad/tuple/control_dependency\n",
      "178 train/gradients/cnn/conv_b/Conv2D_grad/tuple/control_dependency_1\n",
      "179 train/gradients/cnn/pool_a/MaxPool_grad/MaxPoolGrad\n",
      "180 train/gradients/cnn/conv_a/Relu_grad/ReluGrad\n",
      "181 train/gradients/cnn/conv_a/add_grad/Shape\n",
      "182 train/gradients/cnn/conv_a/add_grad/Shape_1\n",
      "183 train/gradients/cnn/conv_a/add_grad/BroadcastGradientArgs\n",
      "184 train/gradients/cnn/conv_a/add_grad/Sum\n",
      "185 train/gradients/cnn/conv_a/add_grad/Reshape\n",
      "186 train/gradients/cnn/conv_a/add_grad/Sum_1\n",
      "187 train/gradients/cnn/conv_a/add_grad/Reshape_1\n",
      "188 train/gradients/cnn/conv_a/add_grad/tuple/group_deps\n",
      "189 train/gradients/cnn/conv_a/add_grad/tuple/control_dependency\n",
      "190 train/gradients/cnn/conv_a/add_grad/tuple/control_dependency_1\n",
      "191 train/gradients/cnn/conv_a/Conv2D_grad/ShapeN\n",
      "192 train/gradients/cnn/conv_a/Conv2D_grad/Conv2DBackpropInput\n",
      "193 train/gradients/cnn/conv_a/Conv2D_grad/Conv2DBackpropFilter\n",
      "194 train/gradients/cnn/conv_a/Conv2D_grad/tuple/group_deps\n",
      "195 train/gradients/cnn/conv_a/Conv2D_grad/tuple/control_dependency\n",
      "196 train/gradients/cnn/conv_a/Conv2D_grad/tuple/control_dependency_1\n",
      "197 train/beta1_power/initial_value\n",
      "198 train/beta1_power\n",
      "199 train/beta1_power/Assign\n",
      "200 train/beta1_power/read\n",
      "201 train/beta2_power/initial_value\n",
      "202 train/beta2_power\n",
      "203 train/beta2_power/Assign\n",
      "204 train/beta2_power/read\n",
      "205 cnn/conv_a/kernel_weights_conv_a/adam_optimizer/Initializer/zeros\n",
      "206 cnn/conv_a/kernel_weights_conv_a/adam_optimizer\n",
      "207 cnn/conv_a/kernel_weights_conv_a/adam_optimizer/Assign\n",
      "208 cnn/conv_a/kernel_weights_conv_a/adam_optimizer/read\n",
      "209 cnn/conv_a/kernel_weights_conv_a/adam_optimizer_1/Initializer/zeros\n",
      "210 cnn/conv_a/kernel_weights_conv_a/adam_optimizer_1\n",
      "211 cnn/conv_a/kernel_weights_conv_a/adam_optimizer_1/Assign\n",
      "212 cnn/conv_a/kernel_weights_conv_a/adam_optimizer_1/read\n",
      "213 cnn/conv_a/Variable/adam_optimizer/Initializer/zeros\n",
      "214 cnn/conv_a/Variable/adam_optimizer\n",
      "215 cnn/conv_a/Variable/adam_optimizer/Assign\n",
      "216 cnn/conv_a/Variable/adam_optimizer/read\n",
      "217 cnn/conv_a/Variable/adam_optimizer_1/Initializer/zeros\n",
      "218 cnn/conv_a/Variable/adam_optimizer_1\n",
      "219 cnn/conv_a/Variable/adam_optimizer_1/Assign\n",
      "220 cnn/conv_a/Variable/adam_optimizer_1/read\n",
      "221 cnn/conv_b/kernel_weights_conv_b/adam_optimizer/Initializer/zeros\n",
      "222 cnn/conv_b/kernel_weights_conv_b/adam_optimizer\n",
      "223 cnn/conv_b/kernel_weights_conv_b/adam_optimizer/Assign\n",
      "224 cnn/conv_b/kernel_weights_conv_b/adam_optimizer/read\n",
      "225 cnn/conv_b/kernel_weights_conv_b/adam_optimizer_1/Initializer/zeros\n",
      "226 cnn/conv_b/kernel_weights_conv_b/adam_optimizer_1\n",
      "227 cnn/conv_b/kernel_weights_conv_b/adam_optimizer_1/Assign\n",
      "228 cnn/conv_b/kernel_weights_conv_b/adam_optimizer_1/read\n",
      "229 cnn/conv_b/Variable/adam_optimizer/Initializer/zeros\n",
      "230 cnn/conv_b/Variable/adam_optimizer\n",
      "231 cnn/conv_b/Variable/adam_optimizer/Assign\n",
      "232 cnn/conv_b/Variable/adam_optimizer/read\n",
      "233 cnn/conv_b/Variable/adam_optimizer_1/Initializer/zeros\n",
      "234 cnn/conv_b/Variable/adam_optimizer_1\n",
      "235 cnn/conv_b/Variable/adam_optimizer_1/Assign\n",
      "236 cnn/conv_b/Variable/adam_optimizer_1/read\n",
      "237 cnn/dense_layer/hidden_weights_dense_layer/adam_optimizer/Initializer/zeros\n",
      "238 cnn/dense_layer/hidden_weights_dense_layer/adam_optimizer\n",
      "239 cnn/dense_layer/hidden_weights_dense_layer/adam_optimizer/Assign\n",
      "240 cnn/dense_layer/hidden_weights_dense_layer/adam_optimizer/read\n",
      "241 cnn/dense_layer/hidden_weights_dense_layer/adam_optimizer_1/Initializer/zeros\n",
      "242 cnn/dense_layer/hidden_weights_dense_layer/adam_optimizer_1\n",
      "243 cnn/dense_layer/hidden_weights_dense_layer/adam_optimizer_1/Assign\n",
      "244 cnn/dense_layer/hidden_weights_dense_layer/adam_optimizer_1/read\n",
      "245 cnn/dense_layer/bias_dense_layer/adam_optimizer/Initializer/zeros\n",
      "246 cnn/dense_layer/bias_dense_layer/adam_optimizer\n",
      "247 cnn/dense_layer/bias_dense_layer/adam_optimizer/Assign\n",
      "248 cnn/dense_layer/bias_dense_layer/adam_optimizer/read\n",
      "249 cnn/dense_layer/bias_dense_layer/adam_optimizer_1/Initializer/zeros\n",
      "250 cnn/dense_layer/bias_dense_layer/adam_optimizer_1\n",
      "251 cnn/dense_layer/bias_dense_layer/adam_optimizer_1/Assign\n",
      "252 cnn/dense_layer/bias_dense_layer/adam_optimizer_1/read\n",
      "253 cnn/output/hidden_weights_output/adam_optimizer/Initializer/zeros\n",
      "254 cnn/output/hidden_weights_output/adam_optimizer\n",
      "255 cnn/output/hidden_weights_output/adam_optimizer/Assign\n",
      "256 cnn/output/hidden_weights_output/adam_optimizer/read\n",
      "257 cnn/output/hidden_weights_output/adam_optimizer_1/Initializer/zeros\n",
      "258 cnn/output/hidden_weights_output/adam_optimizer_1\n",
      "259 cnn/output/hidden_weights_output/adam_optimizer_1/Assign\n",
      "260 cnn/output/hidden_weights_output/adam_optimizer_1/read\n",
      "261 cnn/output/bias_output/adam_optimizer/Initializer/zeros\n",
      "262 cnn/output/bias_output/adam_optimizer\n",
      "263 cnn/output/bias_output/adam_optimizer/Assign\n",
      "264 cnn/output/bias_output/adam_optimizer/read\n",
      "265 cnn/output/bias_output/adam_optimizer_1/Initializer/zeros\n",
      "266 cnn/output/bias_output/adam_optimizer_1\n",
      "267 cnn/output/bias_output/adam_optimizer_1/Assign\n",
      "268 cnn/output/bias_output/adam_optimizer_1/read\n",
      "269 train/adam_optimizer/learning_rate\n",
      "270 train/adam_optimizer/beta1\n",
      "271 train/adam_optimizer/beta2\n",
      "272 train/adam_optimizer/epsilon\n",
      "273 train/adam_optimizer/update_cnn/conv_a/kernel_weights_conv_a/ApplyAdam\n",
      "274 train/adam_optimizer/update_cnn/conv_a/Variable/ApplyAdam\n",
      "275 train/adam_optimizer/update_cnn/conv_b/kernel_weights_conv_b/ApplyAdam\n",
      "276 train/adam_optimizer/update_cnn/conv_b/Variable/ApplyAdam\n",
      "277 train/adam_optimizer/update_cnn/dense_layer/hidden_weights_dense_layer/ApplyAdam\n",
      "278 train/adam_optimizer/update_cnn/dense_layer/bias_dense_layer/ApplyAdam\n",
      "279 train/adam_optimizer/update_cnn/output/hidden_weights_output/ApplyAdam\n",
      "280 train/adam_optimizer/update_cnn/output/bias_output/ApplyAdam\n",
      "281 train/adam_optimizer/mul\n",
      "282 train/adam_optimizer/Assign\n",
      "283 train/adam_optimizer/mul_1\n",
      "284 train/adam_optimizer/Assign_1\n",
      "285 train/adam_optimizer\n",
      "286 accuracy/Softmax\n",
      "287 accuracy/ArgMax/dimension\n",
      "288 accuracy/ArgMax\n",
      "289 accuracy/ArgMax_1/input\n",
      "290 accuracy/ArgMax_1/dimension\n",
      "291 accuracy/ArgMax_1\n",
      "292 accuracy/Equal\n",
      "293 accuracy/Cast\n",
      "294 accuracy/Const\n",
      "295 accuracy/Mean\n",
      "296 init\n",
      "297 init_1\n",
      "298 init_2\n",
      "INFO:tensorflow:Froze 8 variables.\n",
      "Converted 8 variables to const ops.\n"
     ]
    }
   ],
   "source": [
    "#saver = tf.train.Saver()\n",
    "init = tf.global_variables_initializer()\n",
    "\n",
    "losses = []\n",
    "n_samples = X_train.shape[0]\n",
    "with tf.Session() as sess:\n",
    "    sess.run(init)\n",
    "    \n",
    "    for e in range(EPOCHS):\n",
    "        if e % 5 == 0:\n",
    "            print(\"Epoch:\", e, \n",
    "                  \"Current loss:\", \n",
    "                  sess.run(loss, feed_dict={X: X_train, y: y_train}), \n",
    "                  \"Test loss:\",\n",
    "                  sess.run(loss, feed_dict={X: X_test, y: y_test}),\n",
    "                  \"Test Accuracy:\",\n",
    "                  sess.run(acc, feed_dict={X: X_test, y: y_test}))\n",
    "            \n",
    "        for i in range((n_samples + BATCHSIZE - 1) // BATCHSIZE):\n",
    "            sl = slice(i * BATCHSIZE, (i+1) * BATCHSIZE)\n",
    "            X_b = X_train[sl]\n",
    "            y_b = y_train[sl]\n",
    "            sess.run(train_step, feed_dict={X: X_b, y: y_b})\n",
    "            losses.append(sess.run(loss, feed_dict={X: X_b, y: y_b}))\n",
    "\n",
    "    # We use a built-in TF helper to export variables to constants\n",
    "    output_node_name = 'cnn/output/logits_output'\n",
    "    output_graph_def = tf.graph_util.convert_variables_to_constants(\n",
    "        sess, # The session is used to retrieve the weights\n",
    "        tf.get_default_graph().as_graph_def(), # The graph_def is used to retrieve the nodes \n",
    "        output_node_name.split(\",\") # The output node names are used to select the usefull nodes\n",
    "    ) \n",
    "\n",
    "    # Finally we serialize and dump the output graph to the filesystem\n",
    "    with tf.gfile.GFile('./saved_model/cnn_mnist.pb', \"wb\") as f:\n",
    "        f.write(output_graph_def.SerializeToString())"
   ]
  },
  {
   "cell_type": "code",
   "execution_count": 9,
   "metadata": {
    "collapsed": false
   },
   "outputs": [
    {
     "data": {
      "image/png": "[encoded data removed]",
      "text/plain": [
       "<matplotlib.figure.Figure at 0x130c8ffd0>"
      ]
     },
     "metadata": {},
     "output_type": "display_data"
    }
   ],
   "source": [
    "plt.plot(np.array(losses))\n",
    "plt.show()"
   ]
  },
  {
   "cell_type": "markdown",
   "metadata": {},
   "source": [
    "Collect the predictions for the test set."
   ]
  },
  {
   "cell_type": "code",
   "execution_count": 10,
   "metadata": {
    "collapsed": false
   },
   "outputs": [
    {
     "ename": "NameError",
     "evalue": "name 'saver' is not defined",
     "output_type": "error",
     "traceback": [
      "\u001b[0;31m---------------------------------------------------------------------------\u001b[0m",
      "\u001b[0;31mNameError\u001b[0m                                 Traceback (most recent call last)",
      "\u001b[0;32m<ipython-input-10-b30788b44a9d>\u001b[0m in \u001b[0;36m<module>\u001b[0;34m()\u001b[0m\n\u001b[1;32m      1\u001b[0m \u001b[0;31m# best weight values are saved in the checkpoint\u001b[0m\u001b[0;34m\u001b[0m\u001b[0;34m\u001b[0m\u001b[0m\n\u001b[1;32m      2\u001b[0m \u001b[0;32mwith\u001b[0m \u001b[0mtf\u001b[0m\u001b[0;34m.\u001b[0m\u001b[0mSession\u001b[0m\u001b[0;34m(\u001b[0m\u001b[0;34m)\u001b[0m \u001b[0;32mas\u001b[0m \u001b[0msess\u001b[0m\u001b[0;34m:\u001b[0m\u001b[0;34m\u001b[0m\u001b[0m\n\u001b[0;32m----> 3\u001b[0;31m     \u001b[0msaver\u001b[0m\u001b[0;34m.\u001b[0m\u001b[0mrestore\u001b[0m\u001b[0;34m(\u001b[0m\u001b[0msess\u001b[0m\u001b[0;34m,\u001b[0m \u001b[0;34m'./saved_model/cnn_mnist.ckpt'\u001b[0m\u001b[0;34m)\u001b[0m\u001b[0;34m\u001b[0m\u001b[0m\n\u001b[0m\u001b[1;32m      4\u001b[0m     \u001b[0mpreds\u001b[0m \u001b[0;34m=\u001b[0m \u001b[0msess\u001b[0m\u001b[0;34m.\u001b[0m\u001b[0mrun\u001b[0m\u001b[0;34m(\u001b[0m\u001b[0mtf\u001b[0m\u001b[0;34m.\u001b[0m\u001b[0mnn\u001b[0m\u001b[0;34m.\u001b[0m\u001b[0msoftmax\u001b[0m\u001b[0;34m(\u001b[0m\u001b[0my_logits\u001b[0m\u001b[0;34m)\u001b[0m\u001b[0;34m,\u001b[0m \u001b[0mfeed_dict\u001b[0m\u001b[0;34m=\u001b[0m\u001b[0;34m{\u001b[0m\u001b[0mX\u001b[0m\u001b[0;34m:\u001b[0m \u001b[0mX_test\u001b[0m\u001b[0;34m}\u001b[0m\u001b[0;34m)\u001b[0m\u001b[0;34m\u001b[0m\u001b[0m\n\u001b[1;32m      5\u001b[0m     \u001b[0mpred_val\u001b[0m \u001b[0;34m=\u001b[0m \u001b[0mtf\u001b[0m\u001b[0;34m.\u001b[0m\u001b[0margmax\u001b[0m\u001b[0;34m(\u001b[0m\u001b[0mpreds\u001b[0m\u001b[0;34m,\u001b[0m \u001b[0;36m1\u001b[0m\u001b[0;34m)\u001b[0m\u001b[0;34m.\u001b[0m\u001b[0meval\u001b[0m\u001b[0;34m(\u001b[0m\u001b[0;34m)\u001b[0m\u001b[0;34m\u001b[0m\u001b[0m\n",
      "\u001b[0;31mNameError\u001b[0m: name 'saver' is not defined"
     ]
    }
   ],
   "source": [
    "# best weight values are saved in the checkpoint\n",
    "with tf.Session() as sess:\n",
    "    saver.restore(sess, './saved_model/cnn_mnist.ckpt')\n",
    "    preds = sess.run(tf.nn.softmax(y_logits), feed_dict={X: X_test})\n",
    "    pred_val = tf.argmax(preds, 1).eval()"
   ]
  },
  {
   "cell_type": "markdown",
   "metadata": {},
   "source": [
    "Display some of the images and their predicted values."
   ]
  },
  {
   "cell_type": "code",
   "execution_count": null,
   "metadata": {
    "collapsed": false
   },
   "outputs": [],
   "source": [
    "for j in range(5):\n",
    "    plt.imshow(X_test[j].squeeze())\n",
    "    plt.title('Predicted: {}'.format(pred_val[j]))\n",
    "    plt.show()"
   ]
  },
  {
   "cell_type": "code",
   "execution_count": null,
   "metadata": {
    "collapsed": true
   },
   "outputs": [],
   "source": []
  }
 ],
 "metadata": {
  "anaconda-cloud": {},
  "kernelspec": {
   "display_name": "Python [conda root]",
   "language": "python",
   "name": "conda-root-py"
  },
  "language_info": {
   "codemirror_mode": {
    "name": "ipython",
    "version": 3
   },
   "file_extension": ".py",
   "mimetype": "text/x-python",
   "name": "python",
   "nbconvert_exporter": "python",
   "pygments_lexer": "ipython3",
   "version": "3.5.2"
  }
 },
 "nbformat": 4,
 "nbformat_minor": 1
}
