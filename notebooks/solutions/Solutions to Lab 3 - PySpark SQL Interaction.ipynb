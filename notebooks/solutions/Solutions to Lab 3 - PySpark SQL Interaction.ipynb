{
 "cells": [
  {
   "cell_type": "code",
   "execution_count": 1,
   "metadata": {
    "scrolled": false
   },
   "outputs": [],
   "source": [
    "#Basic Spark Setup Stuff\n",
    "\n",
    "import os\n",
    "os.environ['PYSPARK_PYTHON'] = '/usr/bin/python3'\n",
    "\n",
    "import pyspark\n",
    "from pyspark.sql import SparkSession\n",
    "spark = SparkSession.builder.appName(\"Python Spark SQL basic example\").master(\"local[*]\").getOrCreate()"
   ]
  },
  {
   "cell_type": "code",
   "execution_count": 2,
   "metadata": {},
   "outputs": [],
   "source": [
    "# Read in our datafile of Amazon reviews of musical instruments\n",
    "\n",
    "df = spark.read.json(\"reviews_Musical_Instruments_5.json.gz\")"
   ]
  },
  {
   "cell_type": "code",
   "execution_count": 3,
   "metadata": {},
   "outputs": [
    {
     "data": {
      "text/plain": [
       "10261"
      ]
     },
     "execution_count": 3,
     "metadata": {},
     "output_type": "execute_result"
    }
   ],
   "source": [
    "# Sanity check our dataset size, should be the same as in Lab #2\n",
    "\n",
    "df.count()"
   ]
  },
  {
   "cell_type": "code",
   "execution_count": 6,
   "metadata": {},
   "outputs": [
    {
     "name": "stdout",
     "output_type": "stream",
     "text": [
      "+--------+\n",
      "|count(1)|\n",
      "+--------+\n",
      "|   10261|\n",
      "+--------+\n",
      "\n"
     ]
    }
   ],
   "source": [
    "# Register our DF as a temp table\n",
    "df.createOrReplaceTempView(\"music_reviews\")\n",
    "# Query the same dataset size value using SQL\n",
    "spark.sql(\"SELECT count(1) FROM music_reviews\").show()"
   ]
  },
  {
   "cell_type": "code",
   "execution_count": 7,
   "metadata": {},
   "outputs": [
    {
     "name": "stdout",
     "output_type": "stream",
     "text": [
      "+----------+--------+-------+--------------------+-----------+--------------+--------------------+-------+--------------+\n",
      "|      asin| helpful|overall|          reviewText| reviewTime|    reviewerID|        reviewerName|summary|unixReviewTime|\n",
      "+----------+--------+-------+--------------------+-----------+--------------+--------------------+-------+--------------+\n",
      "|1384719342|  [0, 0]|    5.0|Not much to write...|02 28, 2014|A2IBPI20UZIR0U|cassandra tu \"Yea...|   good|    1393545600|\n",
      "|1384719342|[13, 14]|    5.0|The product does ...|03 16, 2013|A14VAT5EAX3D9S|                Jake|   Jake|    1363392000|\n",
      "+----------+--------+-------+--------------------+-----------+--------------+--------------------+-------+--------------+\n",
      "\n"
     ]
    }
   ],
   "source": [
    "# Look at two example elements using an SQL query\n",
    "spark.sql(\"SELECT * FROM music_reviews limit 2\").show()"
   ]
  },
  {
   "cell_type": "code",
   "execution_count": 28,
   "metadata": {
    "scrolled": false
   },
   "outputs": [
    {
     "name": "stdout",
     "output_type": "stream",
     "text": [
      "+----+--------------+--------------------+-----+\n",
      "|rank|    reviewerID|        reviewerName|count|\n",
      "+----+--------------+--------------------+-----+\n",
      "|   1| ADH0O8UVJOT10|            StormJH1|   42|\n",
      "|   2|A15TYOEWBQYF0X|      David W \"Dave\"|   38|\n",
      "|   2|A1L7M2JXN4EZCR|             David G|   38|\n",
      "|   4|A2EZWZ8MBEDOLN|              Charlo|   36|\n",
      "|   5|A2NYK9KWFMJV4Y|Mike Tarrani \"Jaz...|   34|\n",
      "+----+--------------+--------------------+-----+\n",
      "\n"
     ]
    }
   ],
   "source": [
    "#####################################################\n",
    "# Challenge! \n",
    "#\n",
    "# Can you use the SparkSQL interface to find the top \n",
    "# five reviewers by number of reviews?\n",
    "#\n",
    "# Answer:\n",
    "# +----+--------------+--------------------+-----+\n",
    "# |rank|    reviewerID|        reviewerName|count|\n",
    "# +----+--------------+--------------------+-----+\n",
    "# |   1| ADH0O8UVJOT10|            StormJH1|   42|\n",
    "# |   2|A15TYOEWBQYF0X|      David W \"Dave\"|   38|\n",
    "# |   2|A1L7M2JXN4EZCR|             David G|   38|\n",
    "# |   4|A2EZWZ8MBEDOLN|              Charlo|   36|\n",
    "# |   5|A2NYK9KWFMJV4Y|Mike Tarrani \"Jaz...|   34|\n",
    "# +----+--------------+--------------------+-----+\n",
    "#####################################################\n",
    "\n",
    "\n",
    "# Example Solution:\n",
    "spark.sql(\"\"\"\n",
    "          select rank, reviewerID, reviewerName, count \n",
    "            from\n",
    "         (select *, rank() over (order by count desc) as rank\n",
    "            from\n",
    "         (select reviewerID, reviewerName, count(1) as count\n",
    "            from music_reviews \n",
    "        group by reviewerID, reviewerName) foo) bar\n",
    "           where rank between 1 and 5\n",
    "          \"\"\").show()"
   ]
  },
  {
   "cell_type": "code",
   "execution_count": 29,
   "metadata": {},
   "outputs": [
    {
     "name": "stdout",
     "output_type": "stream",
     "text": [
      "+------------+-----+-----+\n",
      "|reviewerName|stars|count|\n",
      "+------------+-----+-----+\n",
      "|    StormJH1|  5.0|   33|\n",
      "|    StormJH1|  4.0|    7|\n",
      "|    StormJH1|  3.0|    2|\n",
      "+------------+-----+-----+\n",
      "\n"
     ]
    }
   ],
   "source": [
    "#####################################################\n",
    "# Challenge! \n",
    "#\n",
    "# Can you use the SparkSQL interface to find the \n",
    "# distribution of reviews across the five star categories\n",
    "# (1 through 5) for the top reviewer, StormJH1?\n",
    "#\n",
    "# Answer:\n",
    "# +------------+-----+-----+\n",
    "# |reviewerName|stars|count|\n",
    "# +------------+-----+-----+\n",
    "# |    StormJH1|  5.0|   33|\n",
    "# |    StormJH1|  4.0|    7|\n",
    "# |    StormJH1|  3.0|    2|\n",
    "# +------------+-----+-----+\n",
    "#####################################################\n",
    "\n",
    "# Example Solution:\n",
    "spark.sql(\"\"\"select reviewerName, overall as stars, count(1) as count \n",
    "               from music_reviews\n",
    "              where reviewerName='StormJH1'\n",
    "           group by reviewerName, overall\n",
    "           order by overall desc\"\"\").show()"
   ]
  },
  {
   "cell_type": "code",
   "execution_count": null,
   "metadata": {},
   "outputs": [],
   "source": []
  }
 ],
 "metadata": {
  "kernelspec": {
   "display_name": "Python 3",
   "language": "python",
   "name": "python3"
  },
  "language_info": {
   "codemirror_mode": {
    "name": "ipython",
    "version": 3
   },
   "file_extension": ".py",
   "mimetype": "text/x-python",
   "name": "python",
   "nbconvert_exporter": "python",
   "pygments_lexer": "ipython3",
   "version": "3.5.2"
  }
 },
 "nbformat": 4,
 "nbformat_minor": 2
}
