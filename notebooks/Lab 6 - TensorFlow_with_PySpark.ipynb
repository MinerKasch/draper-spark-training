{
 "cells": [
  {
   "cell_type": "markdown",
   "metadata": {},
   "source": [
    "# Loading a saved TF graph and apply it to a DataFrame"
   ]
  },
  {
   "cell_type": "code",
   "execution_count": 1,
   "metadata": {
    "collapsed": false
   },
   "outputs": [],
   "source": [
    "import findspark\n",
    "findspark.init()"
   ]
  },
  {
   "cell_type": "code",
   "execution_count": 2,
   "metadata": {
    "collapsed": false
   },
   "outputs": [],
   "source": [
    "import pyspark\n",
    "from pyspark import SparkContext\n",
    "from pyspark.sql import SparkSession\n",
    "sc = SparkContext()\n",
    "spark = SparkSession(sc)\n",
    "\n",
    "import numpy as np\n",
    "import tensorflow as tf\n",
    "\n",
    "%matplotlib inline\n",
    "import matplotlib.pyplot as plt"
   ]
  },
  {
   "cell_type": "markdown",
   "metadata": {},
   "source": [
    "This example loads the MNIST numpy arrays using the TensorFlow methods. Then creats an example Dataframe using those arrays. Finally, we'll apply a saved TF graph to predict the value of each handwritten digit."
   ]
  },
  {
   "cell_type": "code",
   "execution_count": 3,
   "metadata": {
    "collapsed": false
   },
   "outputs": [
    {
     "name": "stdout",
     "output_type": "stream",
     "text": [
      "Extracting MNIST_data/train-images-idx3-ubyte.gz\n",
      "Extracting MNIST_data/train-labels-idx1-ubyte.gz\n",
      "Extracting MNIST_data/t10k-images-idx3-ubyte.gz\n",
      "Extracting MNIST_data/t10k-labels-idx1-ubyte.gz\n",
      "(55000, 28, 28, 1)\n"
     ]
    },
    {
     "data": {
      "image/png": "[encoded data removed]",
      "text/plain": [
       "<matplotlib.figure.Figure at 0x125689588>"
      ]
     },
     "metadata": {},
     "output_type": "display_data"
    },
    {
     "data": {
      "image/png": "[encoded data removed]",
      "text/plain": [
       "<matplotlib.figure.Figure at 0x127f0be80>"
      ]
     },
     "metadata": {},
     "output_type": "display_data"
    },
    {
     "data": {
      "image/png": "[encoded data removed]",
      "text/plain": [
       "<matplotlib.figure.Figure at 0x13152fbe0>"
      ]
     },
     "metadata": {},
     "output_type": "display_data"
    },
    {
     "data": {
      "image/png": "[encoded data removed]",
      "text/plain": [
       "<matplotlib.figure.Figure at 0x13158d2e8>"
      ]
     },
     "metadata": {},
     "output_type": "display_data"
    },
    {
     "data": {
      "image/png": "[encoded data removed]",
      "text/plain": [
       "<matplotlib.figure.Figure at 0x131593b70>"
      ]
     },
     "metadata": {},
     "output_type": "display_data"
    }
   ],
   "source": [
    "from tensorflow.examples.tutorials.mnist import input_data\n",
    "mnist = input_data.read_data_sets(\"MNIST_data\", one_hot=True)\n",
    "\n",
    "X_train = np.reshape(mnist.train.images, (-1, 28, 28, 1))\n",
    "y_train = np.asarray(mnist.train.labels, dtype=np.int32)\n",
    "\n",
    "X_test = np.reshape(mnist.test.images, (-1, 28, 28, 1))\n",
    "y_test = np.asarray(mnist.test.labels, dtype=np.int32)\n",
    "\n",
    "print(X_train.shape)\n",
    "\n",
    "for i in range(5):\n",
    "    plt.imshow(X_train[i].squeeze())\n",
    "    plt.show()"
   ]
  },
  {
   "cell_type": "markdown",
   "metadata": {},
   "source": [
    "### Load and distribute graph definition"
   ]
  },
  {
   "cell_type": "code",
   "execution_count": 4,
   "metadata": {
    "collapsed": false
   },
   "outputs": [],
   "source": [
    "with tf.gfile.FastGFile('./saved_model/cnn_mnist.pb', 'rb') as f:\n",
    "    model_graph = f.read()\n",
    "    \n",
    "model_graph_broadcasted = sc.broadcast(model_graph)"
   ]
  },
  {
   "cell_type": "markdown",
   "metadata": {},
   "source": [
    "# Exercise\n",
    "\n",
    "Create a function called `_apply_graph` to load the saved TensorFlow graph and apply it to an image. Have to get the input and output tensors from teh loaded graph definition and use those in `sess.run()` like normal TF convention. \n",
    "\n",
    "Hint: if you need to see the names of all the operations in the graph you can check them with \n",
    "\n",
    "```python\n",
    "graph = tf.get_default_graph()\n",
    "for i, op in enumerate(graph.get_operations()):\n",
    "    print(i, op.name)\n",
    "```\n",
    "\n",
    "Hint 2: The images are held in the table as flattened vectors so they must be reshaped into (w,h,c) before running through the network. `data.reshape((-1,28,28,1))."
   ]
  },
  {
   "cell_type": "code",
   "execution_count": null,
   "metadata": {
    "collapsed": true
   },
   "outputs": [],
   "source": []
  },
  {
   "cell_type": "code",
   "execution_count": 6,
   "metadata": {
    "collapsed": false
   },
   "outputs": [
    {
     "data": {
      "text/plain": [
       "7"
      ]
     },
     "execution_count": 6,
     "metadata": {},
     "output_type": "execute_result"
    }
   ],
   "source": [
    "_apply_graph(X_test[0])"
   ]
  },
  {
   "cell_type": "code",
   "execution_count": 7,
   "metadata": {
    "collapsed": false
   },
   "outputs": [
    {
     "name": "stdout",
     "output_type": "stream",
     "text": [
      "(10, 785)\n",
      "+-----+--------------------+\n",
      "|label|               image|\n",
      "+-----+--------------------+\n",
      "|    7|[0.0,0.0,0.0,0.0,...|\n",
      "|    2|[0.0,0.0,0.0,0.0,...|\n",
      "|    1|[0.0,0.0,0.0,0.0,...|\n",
      "|    0|[0.0,0.0,0.0,0.0,...|\n",
      "|    4|[0.0,0.0,0.0,0.0,...|\n",
      "|    1|[0.0,0.0,0.0,0.0,...|\n",
      "|    4|[0.0,0.0,0.0,0.0,...|\n",
      "|    9|[0.0,0.0,0.0,0.0,...|\n",
      "|    5|[0.0,0.0,0.0,0.0,...|\n",
      "|    9|[0.0,0.0,0.0,0.0,...|\n",
      "+-----+--------------------+\n",
      "\n"
     ]
    }
   ],
   "source": [
    "from pyspark.ml.linalg import Vectors\n",
    "\n",
    "# we'll take the first ten images from the numpy array to create a dataframe\n",
    "dat = X_test[:10]\n",
    "dat = dat.reshape((10, -1))\n",
    "labels = np.argmax(y_test[:10], 1).reshape((10,-1))\n",
    "\n",
    "dat = np.concatenate((labels, dat), axis=1)\n",
    "print(dat.shape)\n",
    "\n",
    "df = map(lambda x: (int(x[0]), Vectors.dense(x[1:])), dat)\n",
    "mydf = spark.createDataFrame(df, schema=[\"label\", \"image\"])\n",
    "mydf.show()\n"
   ]
  },
  {
   "cell_type": "code",
   "execution_count": 23,
   "metadata": {
    "collapsed": false
   },
   "outputs": [
    {
     "name": "stdout",
     "output_type": "stream",
     "text": [
      "+-----+--------------------+----+\n",
      "|label|               image|test|\n",
      "+-----+--------------------+----+\n",
      "|    7|[0.0,0.0,0.0,0.0,...|   7|\n",
      "|    2|[0.0,0.0,0.0,0.0,...|   2|\n",
      "|    1|[0.0,0.0,0.0,0.0,...|   1|\n",
      "|    0|[0.0,0.0,0.0,0.0,...|   0|\n",
      "|    4|[0.0,0.0,0.0,0.0,...|   4|\n",
      "|    1|[0.0,0.0,0.0,0.0,...|   1|\n",
      "|    4|[0.0,0.0,0.0,0.0,...|   4|\n",
      "|    9|[0.0,0.0,0.0,0.0,...|   9|\n",
      "|    5|[0.0,0.0,0.0,0.0,...|   5|\n",
      "|    9|[0.0,0.0,0.0,0.0,...|   9|\n",
      "+-----+--------------------+----+\n",
      "\n"
     ]
    }
   ],
   "source": [
    "from pyspark.sql.functions import udf\n",
    "\n",
    "def test(a):\n",
    "    return '55'\n",
    "\n",
    "mytestUDF = udf(test)\n",
    "\n",
    "mydf.withColumn('test', apply_graph('image')).show()"
   ]
  }
 ],
 "metadata": {
  "anaconda-cloud": {},
  "kernelspec": {
   "display_name": "Python [default]",
   "language": "python",
   "name": "python3"
  },
  "language_info": {
   "codemirror_mode": {
    "name": "ipython",
    "version": 3
   },
   "file_extension": ".py",
   "mimetype": "text/x-python",
   "name": "python",
   "nbconvert_exporter": "python",
   "pygments_lexer": "ipython3",
   "version": "3.5.2"
  }
 },
 "nbformat": 4,
 "nbformat_minor": 1
}
