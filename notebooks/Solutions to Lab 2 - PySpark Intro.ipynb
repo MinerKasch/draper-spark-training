{
 "cells": [
  {
   "cell_type": "code",
   "execution_count": 1,
   "metadata": {
    "scrolled": false
   },
   "outputs": [],
   "source": [
    "import os\n",
    "# Change to '/usr/bin/python' for python 2\n",
    "os.environ['PYSPARK_PYTHON'] = '/usr/bin/python3'\n",
    "\n",
    "import pyspark\n",
    "from pyspark.sql import SparkSession\n",
    "spark = SparkSession.builder.appName(\"Python Spark SQL basic example\").master(\"local[*]\").getOrCreate()"
   ]
  },
  {
   "cell_type": "code",
   "execution_count": 2,
   "metadata": {},
   "outputs": [],
   "source": [
    "df = spark.read.json(\"reviews_Musical_Instruments_5.json.gz\")"
   ]
  },
  {
   "cell_type": "code",
   "execution_count": 3,
   "metadata": {},
   "outputs": [
    {
     "data": {
      "text/plain": [
       "10261"
      ]
     },
     "execution_count": 3,
     "metadata": {},
     "output_type": "execute_result"
    }
   ],
   "source": [
    "df.count()"
   ]
  },
  {
   "cell_type": "code",
   "execution_count": 4,
   "metadata": {},
   "outputs": [
    {
     "data": {
      "text/plain": [
       "DataFrame[summary: string, asin: string, overall: string, reviewText: string, reviewTime: string, reviewerID: string, reviewerName: string, summary: string, unixReviewTime: string]"
      ]
     },
     "execution_count": 4,
     "metadata": {},
     "output_type": "execute_result"
    }
   ],
   "source": [
    "df.describe()"
   ]
  },
  {
   "cell_type": "code",
   "execution_count": 5,
   "metadata": {},
   "outputs": [
    {
     "data": {
      "text/plain": [
       "[Row(asin='1384719342', helpful=[0, 0], overall=5.0, reviewText=\"Not much to write about here, but it does exactly what it's supposed to. filters out the pop sounds. now my recordings are much more crisp. it is one of the lowest prices pop filters on amazon so might as well buy it, they honestly work the same despite their pricing,\", reviewTime='02 28, 2014', reviewerID='A2IBPI20UZIR0U', reviewerName='cassandra tu \"Yeah, well, that\\'s just like, u...', summary='good', unixReviewTime=1393545600),\n",
       " Row(asin='1384719342', helpful=[13, 14], overall=5.0, reviewText=\"The product does exactly as it should and is quite affordable.I did not realized it was double screened until it arrived, so it was even better than I had expected.As an added bonus, one of the screens carries a small hint of the smell of an old grape candy I used to buy, so for reminiscent's sake, I cannot stop putting the pop filter next to my nose and smelling it after recording. :DIf you needed a pop filter, this will work just as well as the expensive ones, and it may even come with a pleasing aroma like mine did!Buy this product! :]\", reviewTime='03 16, 2013', reviewerID='A14VAT5EAX3D9S', reviewerName='Jake', summary='Jake', unixReviewTime=1363392000)]"
      ]
     },
     "execution_count": 5,
     "metadata": {},
     "output_type": "execute_result"
    }
   ],
   "source": [
    "df.take(2)"
   ]
  },
  {
   "cell_type": "code",
   "execution_count": 14,
   "metadata": {},
   "outputs": [
    {
     "name": "stdout",
     "output_type": "stream",
     "text": [
      "#5 Stars: 6938\n",
      "#4 Stars: 2084\n",
      "#3 Stars: 772\n",
      "#2 Stars: 250\n",
      "#1 Stars: 217\n"
     ]
    }
   ],
   "source": [
    "###############################################################\n",
    "# CHALLENGE!\n",
    "#\n",
    "# Can you count the number of reviews of each 'overall' score?\n",
    "#\n",
    "# You should get the following values for each score:\n",
    "#\n",
    "# 5 Stars: 6938\n",
    "# 4 Stars: 2084\n",
    "# 3 Stars: 772\n",
    "# 2 Stars: 250\n",
    "# 1 Star : 217\n",
    "# ------------\n",
    "# Total  : 10261\n",
    "################################################################\n",
    "\n",
    "# Example Solution:\n",
    "for x in range(5,0,-1):\n",
    "    print(\"#\" + str(x) + \" Stars: \" + str(df.filter(df.overall == x).count()))\n"
   ]
  },
  {
   "cell_type": "code",
   "execution_count": 12,
   "metadata": {},
   "outputs": [
    {
     "name": "stdout",
     "output_type": "stream",
     "text": [
      "Total Words in Reviews: 925371\n"
     ]
    }
   ],
   "source": [
    "###############################################################\n",
    "# CHALLENGE!\n",
    "#\n",
    "# Can you count the total number of words in all reviews?\n",
    "#\n",
    "# HINTS: \n",
    "# - Many of the operations you have learned, e.g. 'map()',\n",
    "#   cannot be applied directly to dataframes. Instead, you must first\n",
    "#   view the dataframe as an RDD by referencing 'df.rdd'. As an example,\n",
    "#   df.map(...) will not work, but df.rdd.map(...) will.\n",
    "#\n",
    "# - Python's 'split()' method is a good way to break strings into words.\n",
    "#\n",
    "#\n",
    "# You should get a result of: 925371 \n",
    "###############################################################\n",
    "\n",
    "# Example Solution:\n",
    "print(\"Total Words in Reviews: \" + str(df.rdd.map(lambda row:len(row.reviewText.split())).sum()))"
   ]
  },
  {
   "cell_type": "code",
   "execution_count": 17,
   "metadata": {},
   "outputs": [
    {
     "name": "stdout",
     "output_type": "stream",
     "text": [
      "#5 Stars: 84.06615739406169\n",
      "#4 Stars: 100.14491362763916\n",
      "#3 Stars: 107.77331606217616\n",
      "#2 Stars: 113.888\n",
      "#1 Stars: 100.2073732718894\n"
     ]
    }
   ],
   "source": [
    "###############################################################\n",
    "# FINAL CHALLENGE!\n",
    "#\n",
    "# With the reviews grouped by their 'overall' rating, can you \n",
    "# count the average number of words in each group's reviews?\n",
    "# \n",
    "# Answers:\n",
    "# 5 Stars: 84.06615739406169\n",
    "# 4 Stars: 100.14491362763916\n",
    "# 3 Stars: 107.77331606217616\n",
    "# 2 Stars: 113.888\n",
    "# 1 Star : 100.2073732718894\n",
    "#\n",
    "# Now we are getting to something interesting...there may be \n",
    "# some insight into the psychology of reviewers here, and we\n",
    "# are potentially finding patterns that could be used e.g. for\n",
    "# classification.\n",
    "###############################################################\n",
    "\n",
    "# Example Solution:\n",
    "for x in range(5,0,-1):\n",
    "    filtered_df = df.filter(df.overall == x);\n",
    "    print(\"#\" + str(x) + \" Stars: \" + \n",
    "          str(filtered_df.rdd.map(lambda row:len(row.reviewText.split())).sum() / filtered_df.count()))"
   ]
  },
  {
   "cell_type": "code",
   "execution_count": null,
   "metadata": {},
   "outputs": [],
   "source": []
  }
 ],
 "metadata": {
  "kernelspec": {
   "display_name": "Python 3",
   "language": "python",
   "name": "python3"
  },
  "language_info": {
   "codemirror_mode": {
    "name": "ipython",
    "version": 3
   },
   "file_extension": ".py",
   "mimetype": "text/x-python",
   "name": "python",
   "nbconvert_exporter": "python",
   "pygments_lexer": "ipython3",
   "version": "3.5.2"
  }
 },
 "nbformat": 4,
 "nbformat_minor": 2
}
