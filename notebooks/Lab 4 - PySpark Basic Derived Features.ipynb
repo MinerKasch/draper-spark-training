{
 "cells": [
  {
   "cell_type": "code",
   "execution_count": 1,
   "metadata": {
    "scrolled": false
   },
   "outputs": [],
   "source": [
    "#Basic Spark Setup Stuff\n",
    "\n",
    "import os\n",
    "os.environ['PYSPARK_PYTHON'] = '/usr/bin/python3'\n",
    "\n",
    "import pyspark\n",
    "from pyspark.sql import SparkSession\n",
    "spark = SparkSession.builder.appName(\"Python Spark SQL basic example\").master(\"local[*]\").getOrCreate()"
   ]
  },
  {
   "cell_type": "code",
   "execution_count": 2,
   "metadata": {},
   "outputs": [],
   "source": [
    "# Read in our datafile of Amazon reviews of musical instruments\n",
    "\n",
    "df = spark.read.json(\"reviews_Musical_Instruments_5.json.gz\")"
   ]
  },
  {
   "cell_type": "code",
   "execution_count": 3,
   "metadata": {},
   "outputs": [
    {
     "data": {
      "text/plain": [
       "10261"
      ]
     },
     "execution_count": 3,
     "metadata": {},
     "output_type": "execute_result"
    }
   ],
   "source": [
    "# Sanity check our dataset size, should be the same as in Lab #2\n",
    "\n",
    "df.count()"
   ]
  },
  {
   "cell_type": "code",
   "execution_count": 4,
   "metadata": {},
   "outputs": [],
   "source": [
    "# Compute a couple of derived features from the data, and augment the dataset\n",
    "\n",
    "from pyspark.sql.functions import udf\n",
    "\n",
    "# UDF is Spark's way of handling a \"user defined function\"\n",
    "countWords = udf(lambda x:len(x.split()))\n",
    "\n",
    "def _avgWordLength(string):\n",
    "    words = string.split()\n",
    "    return sum(len(word) for word in words) / len(words)\n",
    "            \n",
    "avgWordLength = udf(_avgWordLength)\n",
    "\n",
    "# Add the length of the associated review (in words) to each data point\n",
    "df = df.withColumn('reviewLen', countWords(df['reviewText']))\n",
    "# Add the average length of words within the review to each data point\n",
    "df = df.withColumn('reviewWordAvg', avgWordLength(df.reviewText))"
   ]
  },
  {
   "cell_type": "code",
   "execution_count": 6,
   "metadata": {},
   "outputs": [
    {
     "data": {
      "text/plain": [
       "[Row(asin='1384719342', helpful=[0, 0], overall=5.0, reviewText=\"Not much to write about here, but it does exactly what it's supposed to. filters out the pop sounds. now my recordings are much more crisp. it is one of the lowest prices pop filters on amazon so might as well buy it, they honestly work the same despite their pricing,\", reviewTime='02 28, 2014', reviewerID='A2IBPI20UZIR0U', reviewerName='cassandra tu \"Yeah, well, that\\'s just like, u...', summary='good', unixReviewTime=1393545600, reviewLen='51', reviewWordAvg='4.2745098039215685'),\n",
       " Row(asin='1384719342', helpful=[13, 14], overall=5.0, reviewText=\"The product does exactly as it should and is quite affordable.I did not realized it was double screened until it arrived, so it was even better than I had expected.As an added bonus, one of the screens carries a small hint of the smell of an old grape candy I used to buy, so for reminiscent's sake, I cannot stop putting the pop filter next to my nose and smelling it after recording. :DIf you needed a pop filter, this will work just as well as the expensive ones, and it may even come with a pleasing aroma like mine did!Buy this product! :]\", reviewTime='03 16, 2013', reviewerID='A14VAT5EAX3D9S', reviewerName='Jake', summary='Jake', unixReviewTime=1363392000, reviewLen='104', reviewWordAvg='4.240384615384615')]"
      ]
     },
     "execution_count": 6,
     "metadata": {},
     "output_type": "execute_result"
    }
   ],
   "source": [
    "# Check out a couple of examples of our new features, and sanity check them by inspection\n",
    "df.take(2)"
   ]
  },
  {
   "cell_type": "code",
   "execution_count": null,
   "metadata": {},
   "outputs": [],
   "source": [
    "#####################################################\n",
    "# Challenge! \n",
    "#\n",
    "# Try to come up with a couple of derived features\n",
    "# of your own that might be useful. This is pretty\n",
    "# open-ended, and there is no one right answer!\n",
    "# So, be creative and compare with others to see what\n",
    "# you can devise. These features may come in handy\n",
    "# during later lab exercises...\n",
    "#\n",
    "#####################################################\n"
   ]
  }
 ],
 "metadata": {
  "kernelspec": {
   "display_name": "Python 3",
   "language": "python",
   "name": "python3"
  },
  "language_info": {
   "codemirror_mode": {
    "name": "ipython",
    "version": 3
   },
   "file_extension": ".py",
   "mimetype": "text/x-python",
   "name": "python",
   "nbconvert_exporter": "python",
   "pygments_lexer": "ipython3",
   "version": "3.5.2"
  }
 },
 "nbformat": 4,
 "nbformat_minor": 2
}
