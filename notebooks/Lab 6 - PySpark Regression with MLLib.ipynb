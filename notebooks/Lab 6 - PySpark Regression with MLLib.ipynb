{
 "cells": [
  {
   "cell_type": "code",
   "execution_count": 1,
   "metadata": {
    "scrolled": false
   },
   "outputs": [],
   "source": [
    "# Ye olde basic PySpark Setup\n",
    "import os\n",
    "os.environ['PYSPARK_PYTHON'] = '/usr/bin/python3'\n",
    "\n",
    "import pyspark\n",
    "from pyspark.sql import SparkSession\n",
    "spark = SparkSession.builder.appName(\"Python Spark SQL basic example\").master(\"local[*]\").getOrCreate()"
   ]
  },
  {
   "cell_type": "code",
   "execution_count": 2,
   "metadata": {},
   "outputs": [],
   "source": [
    "# Read in datafile\n",
    "df = spark.read.json(\"reviews_Musical_Instruments_5.json.gz\")"
   ]
  },
  {
   "cell_type": "code",
   "execution_count": 3,
   "metadata": {},
   "outputs": [
    {
     "data": {
      "text/plain": [
       "10261"
      ]
     },
     "execution_count": 3,
     "metadata": {},
     "output_type": "execute_result"
    }
   ],
   "source": [
    "# Sanity check dataset size\n",
    "df.count()"
   ]
  },
  {
   "cell_type": "code",
   "execution_count": 4,
   "metadata": {},
   "outputs": [],
   "source": [
    "#Set up features\n",
    "from pyspark.sql.functions import udf\n",
    "\n",
    "def _countWords(string):\n",
    "    if string is None:\n",
    "        return 0\n",
    "    return len(string.split())\n",
    "\n",
    "countWords = udf(_countWords)\n",
    "\n",
    "def _avgWordLength(string):\n",
    "    if string is None:\n",
    "        return 0\n",
    "    words = string.split()\n",
    "    if len(words) == 0:\n",
    "        return 0\n",
    "    return sum(len(word) for word in words) / len(words)\n",
    "            \n",
    "avgWordLength = udf(_avgWordLength)\n",
    "pctUpper = udf(lambda x:0 if x is None or len(x)==0 else sum(1 for y in x if y.isupper())/len(x))\n",
    "strLen = udf(lambda x:0 if x is None else len(x))\n",
    "\n",
    "helpfulPct = udf(lambda x:None if x[1]==0 else x[0]/x[1])\n",
    "\n",
    "df = df.withColumn('reviewLen', countWords(df.reviewText))\n",
    "df = df.withColumn('reviewWordAvg', avgWordLength(df.reviewText))\n",
    "df = df.withColumn('pctUpper', pctUpper(df.reviewText))\n",
    "df = df.withColumn('nameLen', strLen(df.reviewerName))\n",
    "df = df.withColumn('helpfulPct', helpfulPct(df.helpful))\n"
   ]
  },
  {
   "cell_type": "code",
   "execution_count": 5,
   "metadata": {},
   "outputs": [
    {
     "name": "stdout",
     "output_type": "stream",
     "text": [
      "Data Point Examples:\n",
      "[LabeledPoint(0.9285714285714286, [104.0,4.240384615384615,0.016544117647058824,14.0,4.0,5.0]), LabeledPoint(1.0, [77.0,4.675324675324675,0.009174311926605505,1.0,29.0,5.0])]\n"
     ]
    }
   ],
   "source": [
    "#If the review has been reacted to, try to predict the % 'helpful' reactions\n",
    "\n",
    "#Build our dataset, filtering out reviews with no reactions\n",
    "from pyspark.mllib.linalg import Vectors\n",
    "from pyspark.mllib.regression import LabeledPoint\n",
    "\n",
    "dataset = df.rdd.filter(lambda row:row['helpfulPct'] is not None)\n",
    "dataset = dataset.map(lambda row: LabeledPoint(row['helpfulPct'],\n",
    "                      Vectors.dense(row['reviewLen'], \n",
    "                                    row['reviewWordAvg'], \n",
    "                                    row['pctUpper'],\n",
    "                                    row['helpful'][1],\n",
    "                                    row['nameLen'], \n",
    "                                    row['overall'])))\n",
    "\n",
    "print(\"Data Point Examples:\")\n",
    "print(dataset.take(2))"
   ]
  },
  {
   "cell_type": "code",
   "execution_count": 6,
   "metadata": {},
   "outputs": [
    {
     "name": "stdout",
     "output_type": "stream",
     "text": [
      "Dataset Size: 3465\n",
      "Training Data Size: 2345\n",
      "Test Data Size: 1120\n"
     ]
    }
   ],
   "source": [
    "print(\"Dataset Size: \" + str(dataset.count()))\n",
    "\n",
    "#Create training and test sets\n",
    "TRAINING_DATA_RATIO = 0.67\n",
    "RANDOM_SEED = 0xdeadface\n",
    "splits = [TRAINING_DATA_RATIO, 1.0 - TRAINING_DATA_RATIO]\n",
    "training_data, test_data = dataset.randomSplit(splits, RANDOM_SEED)\n",
    "\n",
    "print(\"Training Data Size: \" + str(training_data.count()))\n",
    "print(\"Test Data Size: \" + str(test_data.count()))"
   ]
  },
  {
   "cell_type": "code",
   "execution_count": 7,
   "metadata": {},
   "outputs": [
    {
     "name": "stdout",
     "output_type": "stream",
     "text": [
      "Time to train model: 2.083 seconds\n"
     ]
    }
   ],
   "source": [
    "#Train Model\n",
    "\n",
    "from pyspark.mllib.tree import RandomForest\n",
    "from time import *\n",
    "\n",
    "RF_NUM_TREES=3\n",
    "RF_MAX_DEPTH=4\n",
    "RF_MAX_BINS=8\n",
    "\n",
    "start_time = time()\n",
    "\n",
    "model = RandomForest.trainRegressor(training_data, categoricalFeaturesInfo={}, \\\n",
    "    numTrees=RF_NUM_TREES, featureSubsetStrategy=\"auto\", impurity=\"variance\", \\\n",
    "    maxDepth=RF_MAX_DEPTH, maxBins=RF_MAX_BINS, seed=RANDOM_SEED)\n",
    "\n",
    "end_time = time()\n",
    "elapsed_time = end_time - start_time\n",
    "print(\"Time to train model: %.3f seconds\" % elapsed_time)\n"
   ]
  },
  {
   "cell_type": "code",
   "execution_count": 8,
   "metadata": {},
   "outputs": [
    {
     "name": "stdout",
     "output_type": "stream",
     "text": [
      "[LabeledPoint(1.0, [77.0,4.675324675324675,0.009174311926605505,1.0,29.0,5.0]), LabeledPoint(1.0, [190.0,4.663157894736842,0.02137546468401487,6.0,27.0,5.0])]\n",
      "Average % Helpful Reaction: 0.7831364052428323\n",
      "Baseline Mean Squared Error: 0.12080010319567204\n",
      "Test Mean Squared Error = 0.10893388916420153\n",
      "\n",
      "\n",
      "Learned regression forest model:\n",
      "TreeEnsembleModel regressor with 3 trees\n",
      "\n",
      "  Tree 0:\n",
      "    If (feature 3 <= 4.0)\n",
      "     If (feature 5 <= 3.0)\n",
      "      If (feature 1 <= 4.133333333333334)\n",
      "       If (feature 4 <= 24.0)\n",
      "        Predict: 0.3694968553459119\n",
      "       Else (feature 4 > 24.0)\n",
      "        Predict: 0.95\n",
      "      Else (feature 1 > 4.133333333333334)\n",
      "       If (feature 5 <= 2.0)\n",
      "        Predict: 0.47756410256410253\n",
      "       Else (feature 5 > 2.0)\n",
      "        Predict: 0.6576576576576577\n",
      "     Else (feature 5 > 3.0)\n",
      "      If (feature 1 <= 4.133333333333334)\n",
      "       If (feature 4 <= 17.0)\n",
      "        Predict: 0.7625\n",
      "       Else (feature 4 > 17.0)\n",
      "        Predict: 0.8555555555555555\n",
      "      Else (feature 1 > 4.133333333333334)\n",
      "       If (feature 4 <= 9.0)\n",
      "        Predict: 0.8064770932069512\n",
      "       Else (feature 4 > 9.0)\n",
      "        Predict: 0.838855421686747\n",
      "    Else (feature 3 > 4.0)\n",
      "     If (feature 0 <= 84.0)\n",
      "      If (feature 5 <= 3.0)\n",
      "       If (feature 0 <= 44.0)\n",
      "        Predict: 0.1296941917262773\n",
      "       Else (feature 0 > 44.0)\n",
      "        Predict: 0.4943358395989976\n",
      "      Else (feature 5 > 3.0)\n",
      "       If (feature 3 <= 8.0)\n",
      "        Predict: 0.9052445302445303\n",
      "       Else (feature 3 > 8.0)\n",
      "        Predict: 0.8191606834489868\n",
      "     Else (feature 0 > 84.0)\n",
      "      If (feature 2 <= 0.03239051094890511)\n",
      "       If (feature 1 <= 4.359249329758713)\n",
      "        Predict: 0.8226607348674424\n",
      "       Else (feature 1 > 4.359249329758713)\n",
      "        Predict: 0.8653220085888775\n",
      "      Else (feature 2 > 0.03239051094890511)\n",
      "       If (feature 0 <= 114.0)\n",
      "        Predict: 0.6996201329534663\n",
      "       Else (feature 0 > 114.0)\n",
      "        Predict: 0.8949769475166761\n",
      "  Tree 1:\n",
      "    If (feature 5 <= 3.0)\n",
      "     If (feature 3 <= 4.0)\n",
      "      If (feature 2 <= 0.03239051094890511)\n",
      "       If (feature 5 <= 2.0)\n",
      "        Predict: 0.5480769230769231\n",
      "       Else (feature 5 > 2.0)\n",
      "        Predict: 0.7067430025445292\n",
      "      Else (feature 2 > 0.03239051094890511)\n",
      "       If (feature 0 <= 165.0)\n",
      "        Predict: 0.37671232876712324\n",
      "       Else (feature 0 > 165.0)\n",
      "        Predict: 0.9000000000000004\n",
      "     Else (feature 3 > 4.0)\n",
      "      If (feature 5 <= 2.0)\n",
      "       If (feature 0 <= 28.0)\n",
      "        Predict: 0.10301544860368389\n",
      "       Else (feature 0 > 28.0)\n",
      "        Predict: 0.48075459796454734\n",
      "      Else (feature 5 > 2.0)\n",
      "       If (feature 2 <= 0.03239051094890511)\n",
      "        Predict: 0.6032929295893376\n",
      "       Else (feature 2 > 0.03239051094890511)\n",
      "        Predict: 0.44913003663003626\n",
      "    Else (feature 5 > 3.0)\n",
      "     If (feature 1 <= 4.463414634146342)\n",
      "      If (feature 2 <= 0.02736318407960199)\n",
      "       If (feature 1 <= 3.980952380952381)\n",
      "        Predict: 0.7999578782959464\n",
      "       Else (feature 1 > 3.980952380952381)\n",
      "        Predict: 0.850022445408972\n",
      "      Else (feature 2 > 0.02736318407960199)\n",
      "       If (feature 0 <= 44.0)\n",
      "        Predict: 0.6940016940016941\n",
      "       Else (feature 0 > 44.0)\n",
      "        Predict: 0.8225631113030618\n",
      "     Else (feature 1 > 4.463414634146342)\n",
      "      If (feature 0 <= 114.0)\n",
      "       If (feature 4 <= 13.0)\n",
      "        Predict: 0.8653148322055939\n",
      "       Else (feature 4 > 13.0)\n",
      "        Predict: 0.7857697723898304\n",
      "      Else (feature 0 > 114.0)\n",
      "       If (feature 1 <= 4.762152777777778)\n",
      "        Predict: 0.928399076747508\n",
      "       Else (feature 1 > 4.762152777777778)\n",
      "        Predict: 0.9028506191586497\n",
      "  Tree 2:\n",
      "    If (feature 3 <= 4.0)\n",
      "     If (feature 1 <= 4.253112033195021)\n",
      "      If (feature 5 <= 3.0)\n",
      "       If (feature 0 <= 84.0)\n",
      "        Predict: 0.5049019607843137\n",
      "       Else (feature 0 > 84.0)\n",
      "        Predict: 0.6780303030303029\n",
      "      Else (feature 5 > 3.0)\n",
      "       If (feature 0 <= 267.0)\n",
      "        Predict: 0.7718966603654696\n",
      "       Else (feature 0 > 267.0)\n",
      "        Predict: 0.9166666666666673\n",
      "     Else (feature 1 > 4.253112033195021)\n",
      "      If (feature 1 <= 4.762152777777778)\n",
      "       If (feature 2 <= 0.013377926421404682)\n",
      "        Predict: 0.7277777777777777\n",
      "       Else (feature 2 > 0.013377926421404682)\n",
      "        Predict: 0.8217713787085514\n",
      "      Else (feature 1 > 4.762152777777778)\n",
      "       If (feature 2 <= 0.02736318407960199)\n",
      "        Predict: 0.8507575757575757\n",
      "       Else (feature 2 > 0.02736318407960199)\n",
      "        Predict: 0.6615497076023392\n",
      "    Else (feature 3 > 4.0)\n",
      "     If (feature 4 <= 24.0)\n",
      "      If (feature 0 <= 165.0)\n",
      "       If (feature 1 <= 4.463414634146342)\n",
      "        Predict: 0.8030013481640125\n",
      "       Else (feature 1 > 4.463414634146342)\n",
      "        Predict: 0.730997256908766\n",
      "      Else (feature 0 > 165.0)\n",
      "       If (feature 5 <= 2.0)\n",
      "        Predict: 0.5663034991324465\n",
      "       Else (feature 5 > 2.0)\n",
      "        Predict: 0.8954537371600525\n",
      "     Else (feature 4 > 24.0)\n",
      "      If (feature 5 <= 3.0)\n",
      "       If (feature 1 <= 4.463414634146342)\n",
      "        Predict: 0.7412431318681318\n",
      "       Else (feature 1 > 4.463414634146342)\n",
      "        Predict: 0.568181818181818\n",
      "      Else (feature 5 > 3.0)\n",
      "       If (feature 3 <= 6.0)\n",
      "        Predict: 0.8708333333333333\n",
      "       Else (feature 3 > 6.0)\n",
      "        Predict: 0.9408783845668999\n",
      "\n"
     ]
    }
   ],
   "source": [
    "#Get Baseline\n",
    "print(training_data.take(2))\n",
    "avgHelpfulPct = training_data.map(lambda x:x.label).mean()\n",
    "print(\"Average % Helpful Reaction: \" + str(avgHelpfulPct))\n",
    "baselineMSE = test_data.map(lambda x: (x.label - avgHelpfulPct) * (x.label - avgHelpfulPct)).sum() /\\\n",
    "    float(test_data.count())\n",
    "print(\"Baseline Mean Squared Error: \" + str(baselineMSE))\n",
    "\n",
    "#Compare our model's performance with the baseline\n",
    "predictions = model.predict(test_data.map(lambda x: x.features))\n",
    "labelsAndPredictions = test_data.map(lambda lp: lp.label).zip(predictions)\n",
    "testMSE = labelsAndPredictions.map(lambda lp: (lp[0] - lp[1]) * (lp[0] - lp[1])).sum() /\\\n",
    "    float(test_data.count())\n",
    "print('Test Mean Squared Error = ' + str(testMSE))\n",
    "print()\n",
    "print()\n",
    "#Check out the model that was learned\n",
    "print('Learned regression forest model:')\n",
    "print(model.toDebugString())"
   ]
  },
  {
   "cell_type": "code",
   "execution_count": null,
   "metadata": {},
   "outputs": [],
   "source": [
    "#####################################################\n",
    "# Challenge! \n",
    "#\n",
    "# Can you improve the performance of the regression model?\n",
    "# Perhaps consider using some of the features you \n",
    "# came up with in a previous lab exercise. Alternatively,\n",
    "# you could make up some new features that you feel are\n",
    "# particularly suited to this problem. Also, you could\n",
    "# try adjusting the parameters of the learning algorithm.\n",
    "# If you like, you could also come up with an alternative\n",
    "# target that you want to try to learn to predict.\n",
    "#####################################################"
   ]
  }
 ],
 "metadata": {
  "kernelspec": {
   "display_name": "Python 3",
   "language": "python",
   "name": "python3"
  },
  "language_info": {
   "codemirror_mode": {
    "name": "ipython",
    "version": 3
   },
   "file_extension": ".py",
   "mimetype": "text/x-python",
   "name": "python",
   "nbconvert_exporter": "python",
   "pygments_lexer": "ipython3",
   "version": "3.5.2"
  }
 },
 "nbformat": 4,
 "nbformat_minor": 2
}
